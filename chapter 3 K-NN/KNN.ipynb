{
 "cells": [
  {
   "cell_type": "markdown",
   "metadata": {
    "toc-hr-collapsed": false
   },
   "source": [
    "## 构建KD树"
   ]
  },
  {
   "cell_type": "markdown",
   "metadata": {},
   "source": [
    "如何搜索Kd-tree找到目标点P最邻近的k个点？\n",
    "\n",
    "1. 根据P的坐标值和每个节点的切分向下搜索（也就是比较该结点切分维度上的坐标值，比如一个结点是按照y维分的，就比较P点和结点的y坐标，若P点小，则走向左枝，若P点大，则走向右枝。\n",
    "\n",
    "2. 当到达一个底部结点时，将其标记为已访问。\n",
    "\n",
    "如果L中不足k个点，则将该点加入到L中；如果L不为空且该点与P的距离小于L中离P远的点的距离，则用该结点替换那个最远点 。\n",
    "\n",
    "3. 当前结点不是顶端结点时或是顶端结点却未被标记已访问（若是且已被被标记访问则停止），则向上爬，若已被标记访问，则继续向上爬；若未被标记，则标记已访问，并依次执行下面两步：\n",
    "\n",
    "1）L中不足k个点，则加入；若L已满，则计算P与该点距离，若小于L中最大距离，则替换之。\n",
    "\n",
    "2）计算P和当前结点切分线的距离D，若D大于L中最大距离且L已满，则该结点的另一分支不会有更近的点，至此结束。若D小于L中最大距离或L未满，则该结点的另一分支可能有更近的点，继续在另一分支搜索（从1开始）。"
   ]
  },
  {
   "cell_type": "code",
   "execution_count": 9,
   "metadata": {},
   "outputs": [],
   "source": [
    "import copy\n",
    "import numpy as np\n",
    "import pandas as pd\n",
    "from queue import PriorityQueue\n",
    "import queue\n",
    "\n",
    "from sklearn import datasets\n",
    "\n",
    "class Node:\n",
    "    def __init__(self,i,v=None,l=None,r=None):\n",
    "        self.index = i\n",
    "        self.value = v\n",
    "        self.left = l\n",
    "        self.right = r\n",
    "\n",
    "        \n",
    "class KNN:\n",
    "    \n",
    "    queue = None\n",
    "    tree = None\n",
    "    k = 1\n",
    "            \n",
    "    def __init__(self,X_train=None,y_train=None):\n",
    "        if not isinstance(X_train,pd.DataFrame):\n",
    "            X_train = pd.DataFrame(X_train)\n",
    "        if not isinstance(y_train,pd.Series):\n",
    "            y_train = pd.Series(y_train)\n",
    "        self.X_train = X_train\n",
    "        self.y_train = y_train\n",
    "        self.tree = self._build()\n",
    "        \n",
    "    def kneighbors(self,test_x,k=1):\n",
    "        result = []\n",
    "        for i in test_x:\n",
    "            res = []\n",
    "            self._search_K(i,k)\n",
    "            while not self.queue.empty():\n",
    "                row = self.queue.get()\n",
    "                res.append(int(row[1][-1]))\n",
    "            result.append(res)\n",
    "        return result\n",
    "    \n",
    "    def predict(self,test_x,k=1):\n",
    "        result = []\n",
    "        for i in test_x:\n",
    "            res = []\n",
    "            self._search_K(i,k)\n",
    "            while not self.queue.empty():\n",
    "                row = self.queue.get()\n",
    "                res.append(int(row[1][-1]))\n",
    "            result.append(self._vote_(res))\n",
    "        return result\n",
    "    \n",
    "    def _vote_(self,index_list):\n",
    "        return self.y_train[np.argmax(np.bincount(index_list))]\n",
    "    \n",
    "    \n",
    "    def _build(self):\n",
    "        if self.X_train is not None and self.y_train is not None:\n",
    "            # 将索引值加入最后一列\n",
    "            combine = self.X_train.copy()\n",
    "            combine['idx'] = pd.Series(self.X_train.index)\n",
    "            print(combine.head())\n",
    "            return self._build_tree(combine)\n",
    "            print(self.tree.value)\n",
    "        return None\n",
    "    \n",
    "    def _build_tree(self,dataset):\n",
    "        if dataset.shape[0] == 0:\n",
    "            return None\n",
    "        i,left,mid,right = self._process_data(dataset)\n",
    "        node = Node(i,mid.values[0],self._build_tree(left),self._build_tree(right))\n",
    "        return node\n",
    "    \n",
    "    def _process_data(self,dataset):\n",
    "        if dataset.shape[0] == 1:\n",
    "            return 0,pd.DataFrame([]),dataset,pd.DataFrame([])\n",
    "        #首先选择维度并根据该维度排序\n",
    "        index = self._find_max_var(dataset)\n",
    "        dataset.sort_values(index,inplace=True)\n",
    "        # 选择中位数\n",
    "        m,n = dataset.shape\n",
    "        mid_index = int(np.floor((m-1)/2))\n",
    "        left = dataset[0:mid_index].reset_index(drop=True)\n",
    "        right = dataset[mid_index+1:].reset_index(drop=True)\n",
    "        mid = dataset[mid_index:mid_index+1]\n",
    "        return index,left,mid,right\n",
    "    \n",
    "    def _find_max_var(self,dataset):\n",
    "        var = dataset.drop(['idx'],axis=1).var()\n",
    "        return var.idxmax()\n",
    "    \n",
    "    # 欧拉距离\n",
    "    def _f2_dis(self,node,search_node):\n",
    "        return np.linalg.norm(node-search_node)\n",
    "    \n",
    "    def _search_K(self,x,k=1):\n",
    "        if self.tree is not None:\n",
    "            self.k = k\n",
    "            self.queue = PriorityQueue(k)\n",
    "            self._search_K_NN(x,self.tree)\n",
    "    \n",
    "    def _search_K_NN(self,x,node):\n",
    "        # 直接访问到端节点\n",
    "        index = node.index\n",
    "        value = node.value\n",
    "        other = None\n",
    "        if x[index]<=value[index]:\n",
    "            other = node.right\n",
    "            if not node.left is None:\n",
    "                self._search_K_NN(x,node.left)\n",
    "        else:\n",
    "            other = node.left\n",
    "            if not node.right is None:\n",
    "                self._search_K_NN(x,node.right)\n",
    "        max_length = self._insert_(value,x)\n",
    "        d_dis = self._f2_dis(np.array([x[index]]),np.array([value[index]]))\n",
    "        if d_dis<=max_length:\n",
    "            if not other is None:\n",
    "                self._search_K_NN(x,other)\n",
    "                \n",
    "    def _insert_(self,node,search_node):\n",
    "        length = self._f2_dis(node[:-1],search_node) \n",
    "        if self.queue.full():\n",
    "            first = self.queue.get()\n",
    "            if length >= -first[0]:\n",
    "                node = first[1]\n",
    "                length = -first[0]\n",
    "        if not isinstance(node, list):\n",
    "            node = node.tolist()\n",
    "        self.queue.put((-length,node))\n",
    "        first = self.queue.get()\n",
    "        self.queue.put(first)\n",
    "        return -first[0]"
   ]
  },
  {
   "cell_type": "code",
   "execution_count": 10,
   "metadata": {},
   "outputs": [],
   "source": [
    "iris = datasets.load_iris()\n",
    "x = iris['data']\n",
    "y = iris['target']"
   ]
  },
  {
   "cell_type": "code",
   "execution_count": 11,
   "metadata": {},
   "outputs": [
    {
     "name": "stdout",
     "output_type": "stream",
     "text": [
      "     0    1    2    3  idx\n",
      "0  5.1  3.5  1.4  0.2    0\n",
      "1  4.9  3.0  1.4  0.2    1\n",
      "2  4.7  3.2  1.3  0.2    2\n",
      "3  4.6  3.1  1.5  0.2    3\n",
      "4  5.0  3.6  1.4  0.2    4\n"
     ]
    }
   ],
   "source": [
    "k = KNN(X_train=x,y_train=y)"
   ]
  },
  {
   "cell_type": "code",
   "execution_count": 13,
   "metadata": {},
   "outputs": [],
   "source": [
    "a = k.predict([[4.6,3,1.2,0.15],[4.6,3,1.2,0.15],[4.6,3,1.2,0.15]],3)\n",
    "b = k.kneighbors([[4.6,3,1.2,0.15],[4.6,3,1.2,0.15],[4.6,3,1.2,0.15]],3)"
   ]
  },
  {
   "cell_type": "code",
   "execution_count": 14,
   "metadata": {},
   "outputs": [
    {
     "name": "stdout",
     "output_type": "stream",
     "text": [
      "[0, 0, 0]\n",
      "[[12, 2, 38], [12, 2, 38], [12, 2, 38]]\n"
     ]
    }
   ],
   "source": [
    "print(a)\n",
    "print(b)"
   ]
  },
  {
   "cell_type": "code",
   "execution_count": null,
   "metadata": {},
   "outputs": [],
   "source": []
  }
 ],
 "metadata": {
  "kernelspec": {
   "display_name": "Python [conda env:deep]",
   "language": "python",
   "name": "conda-env-deep-py"
  },
  "language_info": {
   "codemirror_mode": {
    "name": "ipython",
    "version": 3
   },
   "file_extension": ".py",
   "mimetype": "text/x-python",
   "name": "python",
   "nbconvert_exporter": "python",
   "pygments_lexer": "ipython3",
   "version": "3.6.8"
  },
  "toc-showcode": true
 },
 "nbformat": 4,
 "nbformat_minor": 2
}
