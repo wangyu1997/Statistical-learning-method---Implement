{
 "cells": [
  {
   "cell_type": "markdown",
   "metadata": {},
   "source": [
    "## 朴素贝叶斯算法"
   ]
  },
  {
   "cell_type": "code",
   "execution_count": 1,
   "metadata": {},
   "outputs": [],
   "source": [
    "import numpy as np\n",
    "import pandas as ps\n",
    "from sklearn import datasets"
   ]
  },
  {
   "cell_type": "code",
   "execution_count": 8,
   "metadata": {},
   "outputs": [],
   "source": [
    "import copy\n",
    "\n",
    "class NativeBayes:\n",
    "    \n",
    "    def __init__(self,X_train,y_train):\n",
    "        self.dataset = pd.DataFrame(X_train)\n",
    "        self.dataset['y'] = pd.Series(y_train)\n",
    "        self.m,self.n = X_train.shape\n",
    "        self.Iy = self._I_y_(self.dataset['y'])\n",
    "        \n",
    "    # 统计I(y=ck)的分布\n",
    "    def _I_y_(self,y):\n",
    "        return y.value_counts()\n",
    "    \n",
    "    # 预测y=ck,X=x时的概率\n",
    "    def _get_ck_prop_(self,x,ck):\n",
    "        Pck = self.Iy[ck]\n",
    "        p = Pck\n",
    "        for i in range(self.n):\n",
    "            p = p*(self.dataset[(self.dataset[i]==x[i]) & (self.dataset['y']==ck)].shape[0]/Pck)\n",
    "        return p\n",
    "    \n",
    "    def _predict_(self,x):\n",
    "        y_hat = -1\n",
    "        max_p = -1\n",
    "        for ck in self.Iy.index:\n",
    "            p = self._get_ck_prop_(x,ck)\n",
    "            if p >=max_p:\n",
    "                max_p = p\n",
    "                y_hat = ck\n",
    "        return y_hat,max_p\n",
    "        \n",
    "    def predict(self,x):\n",
    "        res = []\n",
    "        for x_single in x:\n",
    "            res.append(self._predict_(x_single)[0])\n",
    "        return res"
   ]
  },
  {
   "cell_type": "code",
   "execution_count": 9,
   "metadata": {},
   "outputs": [],
   "source": [
    "iris = datasets.load_iris()\n",
    "X_train = iris['data']\n",
    "y_train = iris['target']"
   ]
  },
  {
   "cell_type": "code",
   "execution_count": 10,
   "metadata": {},
   "outputs": [],
   "source": [
    "nb = NativeBayes(X_train=X_train,y_train=y_train)"
   ]
  },
  {
   "cell_type": "code",
   "execution_count": 11,
   "metadata": {},
   "outputs": [],
   "source": [
    "y_pred = nb.predict(X_train)"
   ]
  },
  {
   "cell_type": "code",
   "execution_count": 12,
   "metadata": {},
   "outputs": [
    {
     "name": "stdout",
     "output_type": "stream",
     "text": [
      "朴素贝叶斯，样本总数： 150 错误样本数 : 5\n"
     ]
    }
   ],
   "source": [
    "print(\"朴素贝叶斯，样本总数： %d 错误样本数 : %d\" % (X_train.shape[0],(y_train != y_pred).sum()))"
   ]
  }
 ],
 "metadata": {
  "kernelspec": {
   "display_name": "Python [conda env:deep]",
   "language": "python",
   "name": "conda-env-deep-py"
  },
  "language_info": {
   "codemirror_mode": {
    "name": "ipython",
    "version": 3
   },
   "file_extension": ".py",
   "mimetype": "text/x-python",
   "name": "python",
   "nbconvert_exporter": "python",
   "pygments_lexer": "ipython3",
   "version": "3.6.8"
  }
 },
 "nbformat": 4,
 "nbformat_minor": 2
}
