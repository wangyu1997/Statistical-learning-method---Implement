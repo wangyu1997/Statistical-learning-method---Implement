{
 "cells": [
  {
   "cell_type": "markdown",
   "metadata": {},
   "source": [
    "## 决策树算法"
   ]
  },
  {
   "cell_type": "markdown",
   "metadata": {},
   "source": [
    "决策树对每个特征的筛选根据信息增益区分"
   ]
  },
  {
   "cell_type": "code",
   "execution_count": 3,
   "metadata": {},
   "outputs": [],
   "source": [
    "import numpy as np\n",
    "import pandas as pd\n",
    "from sklearn import datasets"
   ]
  },
  {
   "cell_type": "markdown",
   "metadata": {},
   "source": [
    "> 导入贷款申请样本数据表"
   ]
  },
  {
   "cell_type": "code",
   "execution_count": 4,
   "metadata": {},
   "outputs": [],
   "source": [
    "data = [\n",
    "    ['青年','否','否','一般','否'],\n",
    "    ['青年','否','否','好','否'],\n",
    "    ['青年','是','否','好','是'],\n",
    "    ['青年','是','是','一般','是'],\n",
    "    ['青年','否','否','一般','否'],\n",
    "    ['中年','否','否','一般','否'],\n",
    "    ['中年','否','否','好','否'],\n",
    "    ['中年','是','是','好','是'],\n",
    "    ['中年','否','是','非常好','是'],\n",
    "    ['中年','否','是','非常好','是'],\n",
    "    ['老年','否','是','非常好','是'],\n",
    "    ['老年','否','是','好','是'],\n",
    "    ['老年','是','否','好','是'],\n",
    "    ['老年','是','否','非常好','是'],\n",
    "    ['老年','否','否','一般','否'],\n",
    "]\n",
    "\n",
    "headers = ['年龄','有工作','有自己的房子','信贷情况','类别']\n",
    "\n",
    "dataset = pd.DataFrame(data,columns=headers)"
   ]
  },
  {
   "cell_type": "code",
   "execution_count": 5,
   "metadata": {},
   "outputs": [
    {
     "data": {
      "text/html": [
       "<div>\n",
       "<style scoped>\n",
       "    .dataframe tbody tr th:only-of-type {\n",
       "        vertical-align: middle;\n",
       "    }\n",
       "\n",
       "    .dataframe tbody tr th {\n",
       "        vertical-align: top;\n",
       "    }\n",
       "\n",
       "    .dataframe thead th {\n",
       "        text-align: right;\n",
       "    }\n",
       "</style>\n",
       "<table border=\"1\" class=\"dataframe\">\n",
       "  <thead>\n",
       "    <tr style=\"text-align: right;\">\n",
       "      <th></th>\n",
       "      <th>年龄</th>\n",
       "      <th>有工作</th>\n",
       "      <th>有自己的房子</th>\n",
       "      <th>信贷情况</th>\n",
       "      <th>类别</th>\n",
       "    </tr>\n",
       "  </thead>\n",
       "  <tbody>\n",
       "    <tr>\n",
       "      <th>0</th>\n",
       "      <td>青年</td>\n",
       "      <td>否</td>\n",
       "      <td>否</td>\n",
       "      <td>一般</td>\n",
       "      <td>否</td>\n",
       "    </tr>\n",
       "    <tr>\n",
       "      <th>1</th>\n",
       "      <td>青年</td>\n",
       "      <td>否</td>\n",
       "      <td>否</td>\n",
       "      <td>好</td>\n",
       "      <td>否</td>\n",
       "    </tr>\n",
       "    <tr>\n",
       "      <th>2</th>\n",
       "      <td>青年</td>\n",
       "      <td>是</td>\n",
       "      <td>否</td>\n",
       "      <td>好</td>\n",
       "      <td>是</td>\n",
       "    </tr>\n",
       "    <tr>\n",
       "      <th>3</th>\n",
       "      <td>青年</td>\n",
       "      <td>是</td>\n",
       "      <td>是</td>\n",
       "      <td>一般</td>\n",
       "      <td>是</td>\n",
       "    </tr>\n",
       "    <tr>\n",
       "      <th>4</th>\n",
       "      <td>青年</td>\n",
       "      <td>否</td>\n",
       "      <td>否</td>\n",
       "      <td>一般</td>\n",
       "      <td>否</td>\n",
       "    </tr>\n",
       "    <tr>\n",
       "      <th>5</th>\n",
       "      <td>中年</td>\n",
       "      <td>否</td>\n",
       "      <td>否</td>\n",
       "      <td>一般</td>\n",
       "      <td>否</td>\n",
       "    </tr>\n",
       "    <tr>\n",
       "      <th>6</th>\n",
       "      <td>中年</td>\n",
       "      <td>否</td>\n",
       "      <td>否</td>\n",
       "      <td>好</td>\n",
       "      <td>否</td>\n",
       "    </tr>\n",
       "    <tr>\n",
       "      <th>7</th>\n",
       "      <td>中年</td>\n",
       "      <td>是</td>\n",
       "      <td>是</td>\n",
       "      <td>好</td>\n",
       "      <td>是</td>\n",
       "    </tr>\n",
       "    <tr>\n",
       "      <th>8</th>\n",
       "      <td>中年</td>\n",
       "      <td>否</td>\n",
       "      <td>是</td>\n",
       "      <td>非常好</td>\n",
       "      <td>是</td>\n",
       "    </tr>\n",
       "    <tr>\n",
       "      <th>9</th>\n",
       "      <td>中年</td>\n",
       "      <td>否</td>\n",
       "      <td>是</td>\n",
       "      <td>非常好</td>\n",
       "      <td>是</td>\n",
       "    </tr>\n",
       "    <tr>\n",
       "      <th>10</th>\n",
       "      <td>老年</td>\n",
       "      <td>否</td>\n",
       "      <td>是</td>\n",
       "      <td>非常好</td>\n",
       "      <td>是</td>\n",
       "    </tr>\n",
       "    <tr>\n",
       "      <th>11</th>\n",
       "      <td>老年</td>\n",
       "      <td>否</td>\n",
       "      <td>是</td>\n",
       "      <td>好</td>\n",
       "      <td>是</td>\n",
       "    </tr>\n",
       "    <tr>\n",
       "      <th>12</th>\n",
       "      <td>老年</td>\n",
       "      <td>是</td>\n",
       "      <td>否</td>\n",
       "      <td>好</td>\n",
       "      <td>是</td>\n",
       "    </tr>\n",
       "    <tr>\n",
       "      <th>13</th>\n",
       "      <td>老年</td>\n",
       "      <td>是</td>\n",
       "      <td>否</td>\n",
       "      <td>非常好</td>\n",
       "      <td>是</td>\n",
       "    </tr>\n",
       "    <tr>\n",
       "      <th>14</th>\n",
       "      <td>老年</td>\n",
       "      <td>否</td>\n",
       "      <td>否</td>\n",
       "      <td>一般</td>\n",
       "      <td>否</td>\n",
       "    </tr>\n",
       "  </tbody>\n",
       "</table>\n",
       "</div>"
      ],
      "text/plain": [
       "    年龄 有工作 有自己的房子 信贷情况 类别\n",
       "0   青年   否      否   一般  否\n",
       "1   青年   否      否    好  否\n",
       "2   青年   是      否    好  是\n",
       "3   青年   是      是   一般  是\n",
       "4   青年   否      否   一般  否\n",
       "5   中年   否      否   一般  否\n",
       "6   中年   否      否    好  否\n",
       "7   中年   是      是    好  是\n",
       "8   中年   否      是  非常好  是\n",
       "9   中年   否      是  非常好  是\n",
       "10  老年   否      是  非常好  是\n",
       "11  老年   否      是    好  是\n",
       "12  老年   是      否    好  是\n",
       "13  老年   是      否  非常好  是\n",
       "14  老年   否      否   一般  否"
      ]
     },
     "execution_count": 5,
     "metadata": {},
     "output_type": "execute_result"
    }
   ],
   "source": [
    "dataset"
   ]
  },
  {
   "cell_type": "markdown",
   "metadata": {},
   "source": [
    "#### 定义一个函数来计算熵"
   ]
  },
  {
   "cell_type": "code",
   "execution_count": 6,
   "metadata": {},
   "outputs": [],
   "source": [
    "def H(x):\n",
    "    K = x.value_counts().values\n",
    "    D = K.sum()\n",
    "    P = K/D\n",
    "    return -(P*np.log2(P)).sum()"
   ]
  },
  {
   "cell_type": "markdown",
   "metadata": {},
   "source": [
    "#### 定义一个函数来计算条件熵 H(Y|X) = SUM(H(Y|X=x_i))"
   ]
  },
  {
   "cell_type": "code",
   "execution_count": 7,
   "metadata": {},
   "outputs": [],
   "source": [
    "def Hyx(y,x):\n",
    "    Kname = x.value_counts().index\n",
    "    K = x.value_counts()\n",
    "    Kname = K.index\n",
    "    D = K.sum()\n",
    "    Hyx = 0.0\n",
    "    for k in Kname:\n",
    "        Hyx = Hyx + K[k]/D*H(y[x==k])\n",
    "    return Hyx"
   ]
  },
  {
   "cell_type": "markdown",
   "metadata": {},
   "source": [
    "#### 定义信息增益函数g(D,A1) = H(D) - H(Y|A1)"
   ]
  },
  {
   "cell_type": "code",
   "execution_count": 8,
   "metadata": {},
   "outputs": [],
   "source": [
    "def g(D,A1):\n",
    "    return H(D) - Hyx(D,A1)"
   ]
  },
  {
   "cell_type": "code",
   "execution_count": 9,
   "metadata": {},
   "outputs": [],
   "source": [
    "def g_radio(D,A1):\n",
    "    h = H(A1)\n",
    "    if h == 0:\n",
    "        return 0\n",
    "    return g(D,A1)/H(A1)"
   ]
  },
  {
   "cell_type": "markdown",
   "metadata": {},
   "source": [
    "#### 根据信息增益选择最好的特征"
   ]
  },
  {
   "cell_type": "code",
   "execution_count": 10,
   "metadata": {},
   "outputs": [],
   "source": [
    "def select_feature(x,y,metric='entropy'):\n",
    "    C = x.columns\n",
    "    max_g = -1\n",
    "    feature = -1\n",
    "    for c in C:\n",
    "        if metric == 'entropy':\n",
    "            c_g = g(y, x[c])\n",
    "        else:\n",
    "            c_g = g_radio(y,x[c])\n",
    "        if c_g >= max_g:\n",
    "            max_g = c_g\n",
    "            feature = c\n",
    "    return feature,max_g"
   ]
  },
  {
   "cell_type": "code",
   "execution_count": 15,
   "metadata": {},
   "outputs": [
    {
     "name": "stdout",
     "output_type": "stream",
     "text": [
      "('有自己的房子', 0.4325380677663126)\n"
     ]
    }
   ],
   "source": [
    "X = dataset.drop(['类别'],axis=1)\n",
    "Y = dataset['类别']\n",
    "print(select_feature(X,Y,metric='entropy_radio'))"
   ]
  },
  {
   "cell_type": "code",
   "execution_count": 89,
   "metadata": {},
   "outputs": [],
   "source": [
    "class Node:\n",
    "    \n",
    "    def __init__(self,fname=\"\",fdict={},leaf=False,tag=\"\",y_labels=None): # y_labels记录叶节点的分布情况 方便剪枝\n",
    "        self.feature = fname\n",
    "        self.fdict = fdict\n",
    "        self.tag = tag\n",
    "        self.leaf = leaf\n",
    "        self.y_labels = y_labels\n",
    "        "
   ]
  },
  {
   "cell_type": "code",
   "execution_count": 187,
   "metadata": {},
   "outputs": [],
   "source": [
    "class Dicision_Tree:\n",
    "    \n",
    "    def __init__(self,type='ID3'):\n",
    "        self.type = type\n",
    "            \n",
    "    def _H(self,x):\n",
    "        K = x.value_counts().values\n",
    "        D = K.sum()\n",
    "        P = K/D\n",
    "        return -(P*np.log2(P)).sum()\n",
    "    \n",
    "    def _Hyx(self,y,x):\n",
    "        Kname = x.value_counts().index\n",
    "        K = x.value_counts()\n",
    "        Kname = K.index\n",
    "        D = K.sum()\n",
    "        Hyx = 0.0\n",
    "        for k in Kname:\n",
    "            Hyx = Hyx + K[k]/D*self._H(y[x==k])\n",
    "        return Hyx\n",
    "    \n",
    "    def _g(self,D,A1):\n",
    "        return self._H(D) - self._Hyx(D,A1)\n",
    "    \n",
    "    def _g_radio(self,D,A1):\n",
    "        h = H(A1)\n",
    "        if h == 0:\n",
    "            return 0\n",
    "        return self._g(D,A1)/self._H(A1)\n",
    "    \n",
    "    def _select_feature(self,x,y,metric='entropy'):\n",
    "        C = x.columns\n",
    "        max_g = -1\n",
    "        feature = -1\n",
    "        for c in C:\n",
    "            if metric == 'entropy':\n",
    "                c_g = self._g(y, x[c])\n",
    "            else:\n",
    "                c_g = self._g_radio(y,x[c])\n",
    "            if c_g > max_g:\n",
    "                max_g = c_g\n",
    "                feature = c\n",
    "        print('选择',feature,'增益：',max_g)\n",
    "        return feature,max_g\n",
    "    \n",
    "    \n",
    "    def _build_tree(self,dataset,labels,epsilon):\n",
    "        Ck_num = labels.value_counts().shape[0]\n",
    "        # 所有实例属于同一类Ck\n",
    "        if Ck_num == 1:\n",
    "            # 设T为单节点数，并将类Ck作为该节点的类标记\n",
    "            ck = labels[labels.index[0]]\n",
    "            return Node(leaf=True,tag=ck,y_labels=labels) # 叶节点记录y值\n",
    "        # 如果dataset没有其他属性了 那么将T设置为单节点数，投票决定Ck\n",
    "        if dataset.shape[1] == 0:\n",
    "            ck = labels.value_counts().index[0]\n",
    "            return Node(leaf=True,tag=ck,y_labels=labels) # 叶节点记录y值\n",
    "\n",
    "        # 特征选择\n",
    "        metric = 'entropy'\n",
    "        if self.type == 'C4.5':\n",
    "            metric = 'ent_radio'\n",
    "        fname,Ag = self._select_feature(dataset,labels,metric=metric)\n",
    "        # 判断信息增益是否小于阈值\n",
    "        if Ag < epsilon:\n",
    "            ck = labels.value_counts().index[0]\n",
    "            return Node(leaf=True,tag=ck,y_labels=labels) # 叶节点记录y值\n",
    "\n",
    "        # 按照fname列的每一个属性值进一步分类\n",
    "        kname = dataset[fname].value_counts().index\n",
    "\n",
    "        # 判断是否属于同一类\n",
    "        fdict = {}\n",
    "        for k in kname:\n",
    "            flags = (dataset[fname]==k) \n",
    "            # 删去已经作为分类标准的属性\n",
    "            dat = dataset[flags].drop([fname],axis=1)\n",
    "            lab = labels[flags]\n",
    "            # 将这一路径加入子节点\n",
    "            fdict[k] = self._build_tree(dataset=dat,labels=lab,epsilon=epsilon)\n",
    "        return Node(fname=fname,fdict=fdict)\n",
    "    \n",
    "    def _get_index(self,feature):\n",
    "        return int(np.argwhere(self.columns==feature))\n",
    "    \n",
    "    def fit(self,dataset=None,labels=None,epsilon=0.1):\n",
    "        if not isinstance(dataset,pd.DataFrame):\n",
    "            dataset = pd.DataFrame(dataset)\n",
    "        if not isinstance(labels,pd.Series):\n",
    "            labels = pd.Series(labels)\n",
    "        self.columns = dataset.columns\n",
    "        self.root = self._build_tree(dataset,labels,epsilon)\n",
    "        \n",
    "    def _predict(self,X):\n",
    "        # 对单个数据做预测\n",
    "        node = self.root #获取根节点\n",
    "        while not node.leaf: # 当节点不是叶节点一直循环\n",
    "            feature = node.feature # 获取属性值\n",
    "            index = self._get_index(feature) # 获取属性值对应的缩影\n",
    "            value = X[index] # 获取测试数据对应索引的值\n",
    "            node = node.fdict[value]\n",
    "        return node.tag\n",
    "        \n",
    "    def predict(self,X):\n",
    "        # 对多个数据做预测\n",
    "        if isinstance(X,pd.DataFrame):\n",
    "            X = X.values\n",
    "        y_pre = []\n",
    "        for x in X:\n",
    "            y_pre.append(self._predict(x))\n",
    "        return y_pre\n",
    "    \n",
    "    # 深度搜索 计算损失\n",
    "    def deep_loss(self,node):\n",
    "        if not node.leaf:\n",
    "            print('我不是叶节点')\n",
    "            fdict = node.fdict\n",
    "            H = 0\n",
    "            num = 0 # 统计此节点下的信息熵和叶节点个数\n",
    "            for value in fdict:\n",
    "                n = fdict[value]\n",
    "                a,b = self.deep_loss(n)\n",
    "                H = H + a\n",
    "                num = num + b\n",
    "            return H,num\n",
    "        print('我是叶节点')\n",
    "        H = self._H(node.y_labels)\n",
    "        return H,1\n",
    "    \n",
    "    def loss(self):\n",
    "        return self.deep_loss(self.root)\n",
    "    \n",
    "    # 决策数剪枝算法\n",
    "    def cut_ai():\n",
    "        return 0"
   ]
  },
  {
   "cell_type": "code",
   "execution_count": 188,
   "metadata": {},
   "outputs": [
    {
     "name": "stdout",
     "output_type": "stream",
     "text": [
      "选择 有自己的房子 增益： 0.4325380677663126\n",
      "选择 有工作 增益： 1.0\n"
     ]
    }
   ],
   "source": [
    "id_tree = Dicision_Tree('C4.5')\n",
    "id_tree.fit(X,Y,0.1)"
   ]
  },
  {
   "cell_type": "code",
   "execution_count": 189,
   "metadata": {},
   "outputs": [
    {
     "name": "stdout",
     "output_type": "stream",
     "text": [
      "我不是叶节点\n",
      "我不是叶节点\n",
      "我是叶节点\n",
      "我是叶节点\n",
      "我是叶节点\n"
     ]
    },
    {
     "data": {
      "text/plain": [
       "(0.0, 3)"
      ]
     },
     "execution_count": 189,
     "metadata": {},
     "output_type": "execute_result"
    }
   ],
   "source": [
    "id_tree.loss()"
   ]
  },
  {
   "cell_type": "markdown",
   "metadata": {},
   "source": [
    "# 西瓜书测试数据"
   ]
  },
  {
   "cell_type": "code",
   "execution_count": 192,
   "metadata": {},
   "outputs": [],
   "source": [
    "dataset = [\n",
    "    ['青绿','蜷缩','浊响','清晰','凹陷','硬滑','是'],\n",
    "    ['乌黑','蜷缩','沉闷','清晰','凹陷','硬滑','是'],\n",
    "    ['乌黑','蜷缩','浊响','清晰','凹陷','硬滑','是'],    \n",
    "    ['青绿','稍蜷','浊响','清晰','稍凹','软粘','是'],\n",
    "    ['乌黑','稍蜷','浊响','稍糊','稍凹','软粘','是'],    \n",
    "    ['青绿','硬挺','清脆','清晰','平坦','软粘','否'],\n",
    "    ['浅白','稍蜷','沉闷','稍糊','凹陷','硬滑','否'],\n",
    "    ['乌黑','稍蜷','浊响','清晰','稍凹','软粘','否'],\n",
    "    ['浅白','蜷缩','浊响','模糊','平坦','硬滑','否'],\n",
    "    ['青绿','蜷缩','沉闷','稍糊','稍凹','硬滑','否'],\n",
    "]\n",
    "\n",
    "valset = [\n",
    "    ['青绿','蜷缩','沉闷','清晰','凹陷','硬滑','是'],\n",
    "    ['浅白','蜷缩','浊响','清晰','凹陷','硬滑','是'],\n",
    "    ['乌黑','稍蜷','浊响','清晰','稍凹','硬滑','是'],\n",
    "    ['乌黑','稍蜷','沉闷','稍糊','稍凹','硬滑','否'],\n",
    "    ['浅白','硬挺','清脆','模糊','平坦','硬滑','否'],\n",
    "    ['浅白','蜷缩','浊响','模糊','平坦','软粘','否'],\n",
    "    ['青绿','稍蜷','浊响','稍糊','凹陷','硬滑','否'],\n",
    "]\n",
    "\n",
    "columns = ['色泽','根蒂','敲声','纹理','脐部','触感','好瓜']\n",
    "\n",
    "Train_data = pd.DataFrame(dataset,columns=columns)\n",
    "Val_data = pd.DataFrame(dataset,columns=columns)\n",
    "\n",
    "X_train = Train_data.drop(['好瓜'],axis=1)\n",
    "y_train = Train_data['好瓜']\n",
    "\n",
    "\n",
    "X_val = Val_data.drop(['好瓜'],axis=1)\n",
    "y_val = Val_data['好瓜']"
   ]
  },
  {
   "cell_type": "code",
   "execution_count": 193,
   "metadata": {},
   "outputs": [
    {
     "name": "stdout",
     "output_type": "stream",
     "text": [
      "选择 色泽 增益： 0.2754887502163468\n",
      "选择 根蒂 增益： 0.31127812445913283\n",
      "选择 纹理 增益： 1.0\n",
      "选择 敲声 增益： 1.0\n"
     ]
    }
   ],
   "source": [
    "id_tree = Dicision_Tree()\n",
    "id_tree.fit(X_train,y_train,0)"
   ]
  },
  {
   "cell_type": "code",
   "execution_count": 194,
   "metadata": {},
   "outputs": [
    {
     "name": "stdout",
     "output_type": "stream",
     "text": [
      "我不是叶节点\n",
      "我不是叶节点\n",
      "我是叶节点\n",
      "我不是叶节点\n",
      "我是叶节点\n",
      "我是叶节点\n",
      "我不是叶节点\n",
      "我是叶节点\n",
      "我是叶节点\n",
      "我是叶节点\n",
      "我是叶节点\n"
     ]
    },
    {
     "data": {
      "text/plain": [
       "(0.0, 7)"
      ]
     },
     "execution_count": 194,
     "metadata": {},
     "output_type": "execute_result"
    }
   ],
   "source": [
    "id_tree.loss()"
   ]
  },
  {
   "cell_type": "code",
   "execution_count": 174,
   "metadata": {},
   "outputs": [],
   "source": [
    "node = id_tree.root"
   ]
  },
  {
   "cell_type": "code",
   "execution_count": 181,
   "metadata": {},
   "outputs": [
    {
     "data": {
      "text/plain": [
       "{'乌黑': <__main__.Node at 0x7f49276efef0>,\n",
       " '青绿': <__main__.Node at 0x7f4927a9afd0>}"
      ]
     },
     "execution_count": 181,
     "metadata": {},
     "output_type": "execute_result"
    }
   ],
   "source": [
    "node.fdict['清晰'].fdict['稍蜷'].fdict"
   ]
  },
  {
   "cell_type": "code",
   "execution_count": null,
   "metadata": {},
   "outputs": [],
   "source": []
  }
 ],
 "metadata": {
  "kernelspec": {
   "display_name": "Python [conda env:deep]",
   "language": "python",
   "name": "conda-env-deep-py"
  },
  "language_info": {
   "codemirror_mode": {
    "name": "ipython",
    "version": 3
   },
   "file_extension": ".py",
   "mimetype": "text/x-python",
   "name": "python",
   "nbconvert_exporter": "python",
   "pygments_lexer": "ipython3",
   "version": "3.6.8"
  }
 },
 "nbformat": 4,
 "nbformat_minor": 2
}
