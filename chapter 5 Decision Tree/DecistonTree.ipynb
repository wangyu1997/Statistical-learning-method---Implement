{
 "cells": [
  {
   "cell_type": "markdown",
   "metadata": {},
   "source": [
    "## 决策树算法"
   ]
  },
  {
   "cell_type": "markdown",
   "metadata": {},
   "source": [
    "决策树对每个特征的筛选根据信息增益区分"
   ]
  },
  {
   "cell_type": "code",
   "execution_count": 3,
   "metadata": {},
   "outputs": [],
   "source": [
    "import numpy as np\n",
    "import pandas as pd\n",
    "from sklearn import datasets"
   ]
  },
  {
   "cell_type": "markdown",
   "metadata": {},
   "source": [
    "> 导入贷款申请样本数据表"
   ]
  },
  {
   "cell_type": "code",
   "execution_count": 4,
   "metadata": {},
   "outputs": [],
   "source": [
    "data = [\n",
    "    ['青年','否','否','一般','否'],\n",
    "    ['青年','否','否','好','否'],\n",
    "    ['青年','是','否','好','是'],\n",
    "    ['青年','是','是','一般','是'],\n",
    "    ['青年','否','否','一般','否'],\n",
    "    ['中年','否','否','一般','否'],\n",
    "    ['中年','否','否','好','否'],\n",
    "    ['中年','是','是','好','是'],\n",
    "    ['中年','否','是','非常好','是'],\n",
    "    ['中年','否','是','非常好','是'],\n",
    "    ['老年','否','是','非常好','是'],\n",
    "    ['老年','否','是','好','是'],\n",
    "    ['老年','是','否','好','是'],\n",
    "    ['老年','是','否','非常好','是'],\n",
    "    ['老年','否','否','一般','否'],\n",
    "]\n",
    "\n",
    "headers = ['年龄','有工作','有自己的房子','信贷情况','类别']\n",
    "\n",
    "dataset = pd.DataFrame(data,columns=headers)"
   ]
  },
  {
   "cell_type": "code",
   "execution_count": 5,
   "metadata": {},
   "outputs": [
    {
     "data": {
      "text/html": [
       "<div>\n",
       "<style scoped>\n",
       "    .dataframe tbody tr th:only-of-type {\n",
       "        vertical-align: middle;\n",
       "    }\n",
       "\n",
       "    .dataframe tbody tr th {\n",
       "        vertical-align: top;\n",
       "    }\n",
       "\n",
       "    .dataframe thead th {\n",
       "        text-align: right;\n",
       "    }\n",
       "</style>\n",
       "<table border=\"1\" class=\"dataframe\">\n",
       "  <thead>\n",
       "    <tr style=\"text-align: right;\">\n",
       "      <th></th>\n",
       "      <th>年龄</th>\n",
       "      <th>有工作</th>\n",
       "      <th>有自己的房子</th>\n",
       "      <th>信贷情况</th>\n",
       "      <th>类别</th>\n",
       "    </tr>\n",
       "  </thead>\n",
       "  <tbody>\n",
       "    <tr>\n",
       "      <th>0</th>\n",
       "      <td>青年</td>\n",
       "      <td>否</td>\n",
       "      <td>否</td>\n",
       "      <td>一般</td>\n",
       "      <td>否</td>\n",
       "    </tr>\n",
       "    <tr>\n",
       "      <th>1</th>\n",
       "      <td>青年</td>\n",
       "      <td>否</td>\n",
       "      <td>否</td>\n",
       "      <td>好</td>\n",
       "      <td>否</td>\n",
       "    </tr>\n",
       "    <tr>\n",
       "      <th>2</th>\n",
       "      <td>青年</td>\n",
       "      <td>是</td>\n",
       "      <td>否</td>\n",
       "      <td>好</td>\n",
       "      <td>是</td>\n",
       "    </tr>\n",
       "    <tr>\n",
       "      <th>3</th>\n",
       "      <td>青年</td>\n",
       "      <td>是</td>\n",
       "      <td>是</td>\n",
       "      <td>一般</td>\n",
       "      <td>是</td>\n",
       "    </tr>\n",
       "    <tr>\n",
       "      <th>4</th>\n",
       "      <td>青年</td>\n",
       "      <td>否</td>\n",
       "      <td>否</td>\n",
       "      <td>一般</td>\n",
       "      <td>否</td>\n",
       "    </tr>\n",
       "    <tr>\n",
       "      <th>5</th>\n",
       "      <td>中年</td>\n",
       "      <td>否</td>\n",
       "      <td>否</td>\n",
       "      <td>一般</td>\n",
       "      <td>否</td>\n",
       "    </tr>\n",
       "    <tr>\n",
       "      <th>6</th>\n",
       "      <td>中年</td>\n",
       "      <td>否</td>\n",
       "      <td>否</td>\n",
       "      <td>好</td>\n",
       "      <td>否</td>\n",
       "    </tr>\n",
       "    <tr>\n",
       "      <th>7</th>\n",
       "      <td>中年</td>\n",
       "      <td>是</td>\n",
       "      <td>是</td>\n",
       "      <td>好</td>\n",
       "      <td>是</td>\n",
       "    </tr>\n",
       "    <tr>\n",
       "      <th>8</th>\n",
       "      <td>中年</td>\n",
       "      <td>否</td>\n",
       "      <td>是</td>\n",
       "      <td>非常好</td>\n",
       "      <td>是</td>\n",
       "    </tr>\n",
       "    <tr>\n",
       "      <th>9</th>\n",
       "      <td>中年</td>\n",
       "      <td>否</td>\n",
       "      <td>是</td>\n",
       "      <td>非常好</td>\n",
       "      <td>是</td>\n",
       "    </tr>\n",
       "    <tr>\n",
       "      <th>10</th>\n",
       "      <td>老年</td>\n",
       "      <td>否</td>\n",
       "      <td>是</td>\n",
       "      <td>非常好</td>\n",
       "      <td>是</td>\n",
       "    </tr>\n",
       "    <tr>\n",
       "      <th>11</th>\n",
       "      <td>老年</td>\n",
       "      <td>否</td>\n",
       "      <td>是</td>\n",
       "      <td>好</td>\n",
       "      <td>是</td>\n",
       "    </tr>\n",
       "    <tr>\n",
       "      <th>12</th>\n",
       "      <td>老年</td>\n",
       "      <td>是</td>\n",
       "      <td>否</td>\n",
       "      <td>好</td>\n",
       "      <td>是</td>\n",
       "    </tr>\n",
       "    <tr>\n",
       "      <th>13</th>\n",
       "      <td>老年</td>\n",
       "      <td>是</td>\n",
       "      <td>否</td>\n",
       "      <td>非常好</td>\n",
       "      <td>是</td>\n",
       "    </tr>\n",
       "    <tr>\n",
       "      <th>14</th>\n",
       "      <td>老年</td>\n",
       "      <td>否</td>\n",
       "      <td>否</td>\n",
       "      <td>一般</td>\n",
       "      <td>否</td>\n",
       "    </tr>\n",
       "  </tbody>\n",
       "</table>\n",
       "</div>"
      ],
      "text/plain": [
       "    年龄 有工作 有自己的房子 信贷情况 类别\n",
       "0   青年   否      否   一般  否\n",
       "1   青年   否      否    好  否\n",
       "2   青年   是      否    好  是\n",
       "3   青年   是      是   一般  是\n",
       "4   青年   否      否   一般  否\n",
       "5   中年   否      否   一般  否\n",
       "6   中年   否      否    好  否\n",
       "7   中年   是      是    好  是\n",
       "8   中年   否      是  非常好  是\n",
       "9   中年   否      是  非常好  是\n",
       "10  老年   否      是  非常好  是\n",
       "11  老年   否      是    好  是\n",
       "12  老年   是      否    好  是\n",
       "13  老年   是      否  非常好  是\n",
       "14  老年   否      否   一般  否"
      ]
     },
     "execution_count": 5,
     "metadata": {},
     "output_type": "execute_result"
    }
   ],
   "source": [
    "dataset"
   ]
  },
  {
   "cell_type": "markdown",
   "metadata": {},
   "source": [
    "#### 定义一个函数来计算熵"
   ]
  },
  {
   "cell_type": "code",
   "execution_count": 6,
   "metadata": {},
   "outputs": [],
   "source": [
    "def H(x):\n",
    "    K = x.value_counts().values\n",
    "    D = K.sum()\n",
    "    P = K/D\n",
    "    return -(P*np.log2(P)).sum()"
   ]
  },
  {
   "cell_type": "markdown",
   "metadata": {},
   "source": [
    "#### 定义一个函数来计算条件熵 H(Y|X) = SUM(H(Y|X=x_i))"
   ]
  },
  {
   "cell_type": "code",
   "execution_count": 7,
   "metadata": {},
   "outputs": [],
   "source": [
    "def Hyx(y,x):\n",
    "    Kname = x.value_counts().index\n",
    "    K = x.value_counts()\n",
    "    Kname = K.index\n",
    "    D = K.sum()\n",
    "    Hyx = 0.0\n",
    "    for k in Kname:\n",
    "        Hyx = Hyx + K[k]/D*H(y[x==k])\n",
    "    return Hyx"
   ]
  },
  {
   "cell_type": "markdown",
   "metadata": {},
   "source": [
    "#### 定义信息增益函数g(D,A1) = H(D) - H(Y|A1)"
   ]
  },
  {
   "cell_type": "code",
   "execution_count": 8,
   "metadata": {},
   "outputs": [],
   "source": [
    "def g(D,A1):\n",
    "    return H(D) - Hyx(D,A1)"
   ]
  },
  {
   "cell_type": "code",
   "execution_count": 9,
   "metadata": {},
   "outputs": [],
   "source": [
    "def g_radio(D,A1):\n",
    "    h = H(A1)\n",
    "    if h == 0:\n",
    "        return 0\n",
    "    return g(D,A1)/H(A1)"
   ]
  },
  {
   "cell_type": "markdown",
   "metadata": {},
   "source": [
    "#### 根据信息增益选择最好的特征"
   ]
  },
  {
   "cell_type": "code",
   "execution_count": 10,
   "metadata": {},
   "outputs": [],
   "source": [
    "def select_feature(x,y,metric='entropy'):\n",
    "    C = x.columns\n",
    "    max_g = -1\n",
    "    feature = -1\n",
    "    for c in C:\n",
    "        if metric == 'entropy':\n",
    "            c_g = g(y, x[c])\n",
    "        else:\n",
    "            c_g = g_radio(y,x[c])\n",
    "        if c_g >= max_g:\n",
    "            max_g = c_g\n",
    "            feature = c\n",
    "    return feature,max_g"
   ]
  },
  {
   "cell_type": "code",
   "execution_count": 15,
   "metadata": {},
   "outputs": [
    {
     "name": "stdout",
     "output_type": "stream",
     "text": [
      "('有自己的房子', 0.4325380677663126)\n"
     ]
    }
   ],
   "source": [
    "X = dataset.drop(['类别'],axis=1)\n",
    "Y = dataset['类别']\n",
    "print(select_feature(X,Y,metric='entropy_radio'))"
   ]
  },
  {
   "cell_type": "code",
   "execution_count": 16,
   "metadata": {},
   "outputs": [],
   "source": [
    "class Node:\n",
    "    \n",
    "    def __init__(self,fname=\"\",fdict={},leaf=False,tag=\"\"):\n",
    "        self.feature = fname\n",
    "        self.fdict = fdict\n",
    "        self.tag = tag\n",
    "        self.leaf = leaf\n",
    "        "
   ]
  },
  {
   "cell_type": "code",
   "execution_count": 82,
   "metadata": {},
   "outputs": [],
   "source": [
    "class Dicision_Tree:\n",
    "    \n",
    "    def __init__(self,type='ID3'):\n",
    "        self.type = type\n",
    "            \n",
    "    def _H(self,x):\n",
    "        K = x.value_counts().values\n",
    "        D = K.sum()\n",
    "        P = K/D\n",
    "        return -(P*np.log2(P)).sum()\n",
    "    \n",
    "    def _Hyx(self,y,x):\n",
    "        Kname = x.value_counts().index\n",
    "        K = x.value_counts()\n",
    "        Kname = K.index\n",
    "        D = K.sum()\n",
    "        Hyx = 0.0\n",
    "        for k in Kname:\n",
    "            Hyx = Hyx + K[k]/D*self._H(y[x==k])\n",
    "        return Hyx\n",
    "    \n",
    "    def _g(self,D,A1):\n",
    "        return self._H(D) - self._Hyx(D,A1)\n",
    "    \n",
    "    def _g_radio(self,D,A1):\n",
    "        h = H(A1)\n",
    "        if h == 0:\n",
    "            return 0\n",
    "        return self._g(D,A1)/self._H(A1)\n",
    "    \n",
    "    def _select_feature(self,x,y,metric='entropy'):\n",
    "        C = x.columns\n",
    "        max_g = -1\n",
    "        feature = -1\n",
    "        for c in C:\n",
    "            if metric == 'entropy':\n",
    "                c_g = self._g(y, x[c])\n",
    "            else:\n",
    "                c_g = self._g_radio(y,x[c])\n",
    "            print('feature:',c,'ent:',c_g)\n",
    "            if c_g >= max_g:\n",
    "                max_g = c_g\n",
    "                feature = c\n",
    "        return feature,max_g\n",
    "    \n",
    "    \n",
    "    def _build_tree(self,dataset,labels,epsilon):\n",
    "        Ck_num = labels.value_counts().shape[0]\n",
    "        # 所有实例属于同一类Ck\n",
    "        if Ck_num == 1:\n",
    "            # 设T为单节点数，并将类Ck作为该节点的类标记\n",
    "            ck = labels[labels.index[0]]\n",
    "            return Node(leaf=True,tag=ck)\n",
    "        # 如果dataset没有其他属性了 那么将T设置为单节点数，投票决定Ck\n",
    "        if dataset.shape[1] == 0:\n",
    "            ck = labels.value_counts().index[0]\n",
    "            return Node(leaf=True,tag=ck)\n",
    "\n",
    "        # 特征选择\n",
    "        metric = 'entropy'\n",
    "        if self.type == 'C4.5':\n",
    "            metric = 'ent_radio'\n",
    "        fname,Ag = self._select_feature(dataset,labels,metric=metric)\n",
    "        # 判断信息增益是否小于阈值\n",
    "        if Ag < epsilon:\n",
    "            ck = labels.value_counts().index[0]\n",
    "            return Node(leaf=True,tag=ck)\n",
    "\n",
    "        # 按照fname列的每一个属性值进一步分类\n",
    "        kname = dataset[fname].value_counts().index\n",
    "\n",
    "        # 判断是否属于同一类\n",
    "        fdict = {}\n",
    "        for k in kname:\n",
    "            flags = (dataset[fname]==k) \n",
    "            # 删去已经作为分类标准的属性\n",
    "            dat = dataset[flags].drop([fname],axis=1)\n",
    "            lab = labels[flags]\n",
    "            # 将这一路径加入子节点\n",
    "            fdict[k] = self._build_tree(dataset=dat,labels=lab,epsilon=epsilon)\n",
    "        return Node(fname=fname,fdict=fdict)\n",
    "    \n",
    "    def _get_index(self,feature):\n",
    "        return int(np.argwhere(self.columns==feature))\n",
    "    \n",
    "    def fit(self,dataset=None,labels=None,epsilon=0.1):\n",
    "        if not isinstance(dataset,pd.DataFrame):\n",
    "            dataset = pd.DataFrame(dataset)\n",
    "        if not isinstance(labels,pd.Series):\n",
    "            labels = pd.Series(labels)\n",
    "        self.columns = dataset.columns\n",
    "        self.root = self._build_tree(dataset,labels,epsilon)\n",
    "        \n",
    "    def _predict(self,X):\n",
    "        # 对单个数据做预测\n",
    "        node = self.root #获取根节点\n",
    "        while not node.leaf: # 当节点不是叶节点一直循环\n",
    "            feature = node.feature # 获取属性值\n",
    "            index = self._get_index(feature) # 获取属性值对应的缩影\n",
    "            value = X[index] # 获取测试数据对应索引的值\n",
    "            node = node.fdict[value]\n",
    "        return node.tag\n",
    "        \n",
    "    def predict(self,X):\n",
    "        # 对多个数据做预测\n",
    "        if isinstance(X,pd.DataFrame):\n",
    "            X = X.values\n",
    "        y_pre = []\n",
    "        for x in X:\n",
    "            y_pre.append(self._predict(x))\n",
    "        return y_pre"
   ]
  },
  {
   "cell_type": "code",
   "execution_count": 83,
   "metadata": {},
   "outputs": [
    {
     "name": "stdout",
     "output_type": "stream",
     "text": [
      "feature: 年龄 ent: 0.05237190142858302\n",
      "feature: 有工作 ent: 0.3524465495205019\n",
      "feature: 有自己的房子 ent: 0.4325380677663126\n",
      "feature: 信贷情况 ent: 0.23185388128724224\n",
      "feature: 年龄 ent: 0.16441052527276862\n",
      "feature: 有工作 ent: 1.0\n",
      "feature: 信贷情况 ent: 0.34037448163185724\n"
     ]
    }
   ],
   "source": [
    "id_tree = Dicision_Tree('C4.5')\n",
    "id_tree.fit(X,Y,0.1)"
   ]
  },
  {
   "cell_type": "code",
   "execution_count": 84,
   "metadata": {},
   "outputs": [
    {
     "name": "stdout",
     "output_type": "stream",
     "text": [
      "feature: 年龄 ent: 0.08300749985576883\n",
      "feature: 有工作 ent: 0.32365019815155627\n",
      "feature: 有自己的房子 ent: 0.4199730940219749\n",
      "feature: 信贷情况 ent: 0.36298956253708536\n",
      "feature: 年龄 ent: 0.2516291673878229\n",
      "feature: 有工作 ent: 0.9182958340544896\n",
      "feature: 信贷情况 ent: 0.47385138961004514\n"
     ]
    }
   ],
   "source": [
    "id_tree = Dicision_Tree()\n",
    "id_tree.fit(X,Y,0.1)"
   ]
  },
  {
   "cell_type": "code",
   "execution_count": 81,
   "metadata": {},
   "outputs": [
    {
     "data": {
      "text/plain": [
       "['否', '否', '是', '是', '否', '否', '否', '是', '是', '是', '是', '是', '是', '是', '否']"
      ]
     },
     "execution_count": 81,
     "metadata": {},
     "output_type": "execute_result"
    }
   ],
   "source": [
    "id_tree.predict(X)"
   ]
  },
  {
   "cell_type": "code",
   "execution_count": 60,
   "metadata": {},
   "outputs": [
    {
     "data": {
      "text/html": [
       "<div>\n",
       "<style scoped>\n",
       "    .dataframe tbody tr th:only-of-type {\n",
       "        vertical-align: middle;\n",
       "    }\n",
       "\n",
       "    .dataframe tbody tr th {\n",
       "        vertical-align: top;\n",
       "    }\n",
       "\n",
       "    .dataframe thead th {\n",
       "        text-align: right;\n",
       "    }\n",
       "</style>\n",
       "<table border=\"1\" class=\"dataframe\">\n",
       "  <thead>\n",
       "    <tr style=\"text-align: right;\">\n",
       "      <th></th>\n",
       "      <th>年龄</th>\n",
       "      <th>有工作</th>\n",
       "      <th>有自己的房子</th>\n",
       "      <th>信贷情况</th>\n",
       "    </tr>\n",
       "  </thead>\n",
       "  <tbody>\n",
       "    <tr>\n",
       "      <th>0</th>\n",
       "      <td>青年</td>\n",
       "      <td>否</td>\n",
       "      <td>否</td>\n",
       "      <td>一般</td>\n",
       "    </tr>\n",
       "    <tr>\n",
       "      <th>1</th>\n",
       "      <td>青年</td>\n",
       "      <td>否</td>\n",
       "      <td>否</td>\n",
       "      <td>好</td>\n",
       "    </tr>\n",
       "    <tr>\n",
       "      <th>2</th>\n",
       "      <td>青年</td>\n",
       "      <td>是</td>\n",
       "      <td>否</td>\n",
       "      <td>好</td>\n",
       "    </tr>\n",
       "    <tr>\n",
       "      <th>3</th>\n",
       "      <td>青年</td>\n",
       "      <td>是</td>\n",
       "      <td>是</td>\n",
       "      <td>一般</td>\n",
       "    </tr>\n",
       "    <tr>\n",
       "      <th>4</th>\n",
       "      <td>青年</td>\n",
       "      <td>否</td>\n",
       "      <td>否</td>\n",
       "      <td>一般</td>\n",
       "    </tr>\n",
       "    <tr>\n",
       "      <th>5</th>\n",
       "      <td>中年</td>\n",
       "      <td>否</td>\n",
       "      <td>否</td>\n",
       "      <td>一般</td>\n",
       "    </tr>\n",
       "    <tr>\n",
       "      <th>6</th>\n",
       "      <td>中年</td>\n",
       "      <td>否</td>\n",
       "      <td>否</td>\n",
       "      <td>好</td>\n",
       "    </tr>\n",
       "    <tr>\n",
       "      <th>7</th>\n",
       "      <td>中年</td>\n",
       "      <td>是</td>\n",
       "      <td>是</td>\n",
       "      <td>好</td>\n",
       "    </tr>\n",
       "    <tr>\n",
       "      <th>8</th>\n",
       "      <td>中年</td>\n",
       "      <td>否</td>\n",
       "      <td>是</td>\n",
       "      <td>非常好</td>\n",
       "    </tr>\n",
       "    <tr>\n",
       "      <th>9</th>\n",
       "      <td>中年</td>\n",
       "      <td>否</td>\n",
       "      <td>是</td>\n",
       "      <td>非常好</td>\n",
       "    </tr>\n",
       "    <tr>\n",
       "      <th>10</th>\n",
       "      <td>老年</td>\n",
       "      <td>否</td>\n",
       "      <td>是</td>\n",
       "      <td>非常好</td>\n",
       "    </tr>\n",
       "    <tr>\n",
       "      <th>11</th>\n",
       "      <td>老年</td>\n",
       "      <td>否</td>\n",
       "      <td>是</td>\n",
       "      <td>好</td>\n",
       "    </tr>\n",
       "    <tr>\n",
       "      <th>12</th>\n",
       "      <td>老年</td>\n",
       "      <td>是</td>\n",
       "      <td>否</td>\n",
       "      <td>好</td>\n",
       "    </tr>\n",
       "    <tr>\n",
       "      <th>13</th>\n",
       "      <td>老年</td>\n",
       "      <td>是</td>\n",
       "      <td>否</td>\n",
       "      <td>非常好</td>\n",
       "    </tr>\n",
       "    <tr>\n",
       "      <th>14</th>\n",
       "      <td>老年</td>\n",
       "      <td>否</td>\n",
       "      <td>否</td>\n",
       "      <td>一般</td>\n",
       "    </tr>\n",
       "  </tbody>\n",
       "</table>\n",
       "</div>"
      ],
      "text/plain": [
       "    年龄 有工作 有自己的房子 信贷情况\n",
       "0   青年   否      否   一般\n",
       "1   青年   否      否    好\n",
       "2   青年   是      否    好\n",
       "3   青年   是      是   一般\n",
       "4   青年   否      否   一般\n",
       "5   中年   否      否   一般\n",
       "6   中年   否      否    好\n",
       "7   中年   是      是    好\n",
       "8   中年   否      是  非常好\n",
       "9   中年   否      是  非常好\n",
       "10  老年   否      是  非常好\n",
       "11  老年   否      是    好\n",
       "12  老年   是      否    好\n",
       "13  老年   是      否  非常好\n",
       "14  老年   否      否   一般"
      ]
     },
     "execution_count": 60,
     "metadata": {},
     "output_type": "execute_result"
    }
   ],
   "source": []
  },
  {
   "cell_type": "code",
   "execution_count": 131,
   "metadata": {},
   "outputs": [],
   "source": [
    "a = build_tree(f,l)"
   ]
  },
  {
   "cell_type": "code",
   "execution_count": 136,
   "metadata": {},
   "outputs": [
    {
     "data": {
      "text/plain": [
       "'否'"
      ]
     },
     "execution_count": 136,
     "metadata": {},
     "output_type": "execute_result"
    }
   ],
   "source": [
    "a.fdict['否'].fdict['否'].tag"
   ]
  },
  {
   "cell_type": "code",
   "execution_count": 55,
   "metadata": {},
   "outputs": [
    {
     "data": {
      "text/plain": [
       "'是'"
      ]
     },
     "execution_count": 55,
     "metadata": {},
     "output_type": "execute_result"
    }
   ],
   "source": [
    "l.value_counts().index[0]"
   ]
  },
  {
   "cell_type": "code",
   "execution_count": 89,
   "metadata": {},
   "outputs": [
    {
     "data": {
      "text/plain": [
       "(1,)"
      ]
     },
     "execution_count": 89,
     "metadata": {},
     "output_type": "execute_result"
    }
   ],
   "source": [
    "ty = ['是','是','是']\n",
    "pd.Series(ty).value_counts().shape"
   ]
  },
  {
   "cell_type": "code",
   "execution_count": 85,
   "metadata": {},
   "outputs": [
    {
     "data": {
      "text/plain": [
       "2"
      ]
     },
     "execution_count": 85,
     "metadata": {},
     "output_type": "execute_result"
    }
   ],
   "source": [
    "l.value_counts().shape[0]"
   ]
  },
  {
   "cell_type": "code",
   "execution_count": null,
   "metadata": {},
   "outputs": [],
   "source": []
  }
 ],
 "metadata": {
  "kernelspec": {
   "display_name": "Python [conda env:deep]",
   "language": "python",
   "name": "conda-env-deep-py"
  },
  "language_info": {
   "codemirror_mode": {
    "name": "ipython",
    "version": 3
   },
   "file_extension": ".py",
   "mimetype": "text/x-python",
   "name": "python",
   "nbconvert_exporter": "python",
   "pygments_lexer": "ipython3",
   "version": "3.6.8"
  }
 },
 "nbformat": 4,
 "nbformat_minor": 2
}
